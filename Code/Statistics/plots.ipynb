{
  "nbformat": 4,
  "nbformat_minor": 0,
  "metadata": {
    "colab": {
      "name": "plots.ipynb",
      "provenance": [],
      "collapsed_sections": []
    },
    "kernelspec": {
      "name": "python3",
      "display_name": "Python 3"
    },
    "language_info": {
      "name": "python"
    }
  },
  "cells": [
    {
      "cell_type": "code",
      "source": [
        "import pandas as pd\n",
        "df = pd.read_csv('normalised.csv')"
      ],
      "metadata": {
        "id": "ZKMk5Mo_bz36"
      },
      "execution_count": 1,
      "outputs": []
    },
    {
      "cell_type": "code",
      "source": [
        "pip install dateparser"
      ],
      "metadata": {
        "id": "Kf3s9iXv2lKZ",
        "colab": {
          "base_uri": "https://localhost:8080/"
        },
        "outputId": "1cf7d329-2b66-4275-9cf2-dfe49259a597"
      },
      "execution_count": 3,
      "outputs": [
        {
          "output_type": "stream",
          "name": "stdout",
          "text": [
            "Collecting dateparser\n",
            "  Downloading dateparser-1.1.0-py2.py3-none-any.whl (288 kB)\n",
            "\u001b[?25l\r\u001b[K     |█▏                              | 10 kB 16.4 MB/s eta 0:00:01\r\u001b[K     |██▎                             | 20 kB 11.6 MB/s eta 0:00:01\r\u001b[K     |███▍                            | 30 kB 9.2 MB/s eta 0:00:01\r\u001b[K     |████▌                           | 40 kB 8.4 MB/s eta 0:00:01\r\u001b[K     |█████▊                          | 51 kB 5.1 MB/s eta 0:00:01\r\u001b[K     |██████▉                         | 61 kB 5.5 MB/s eta 0:00:01\r\u001b[K     |████████                        | 71 kB 5.3 MB/s eta 0:00:01\r\u001b[K     |█████████                       | 81 kB 5.9 MB/s eta 0:00:01\r\u001b[K     |██████████▏                     | 92 kB 5.5 MB/s eta 0:00:01\r\u001b[K     |███████████▍                    | 102 kB 5.4 MB/s eta 0:00:01\r\u001b[K     |████████████▌                   | 112 kB 5.4 MB/s eta 0:00:01\r\u001b[K     |█████████████▋                  | 122 kB 5.4 MB/s eta 0:00:01\r\u001b[K     |██████████████▊                 | 133 kB 5.4 MB/s eta 0:00:01\r\u001b[K     |████████████████                | 143 kB 5.4 MB/s eta 0:00:01\r\u001b[K     |█████████████████               | 153 kB 5.4 MB/s eta 0:00:01\r\u001b[K     |██████████████████▏             | 163 kB 5.4 MB/s eta 0:00:01\r\u001b[K     |███████████████████▎            | 174 kB 5.4 MB/s eta 0:00:01\r\u001b[K     |████████████████████▍           | 184 kB 5.4 MB/s eta 0:00:01\r\u001b[K     |█████████████████████▋          | 194 kB 5.4 MB/s eta 0:00:01\r\u001b[K     |██████████████████████▊         | 204 kB 5.4 MB/s eta 0:00:01\r\u001b[K     |███████████████████████▉        | 215 kB 5.4 MB/s eta 0:00:01\r\u001b[K     |█████████████████████████       | 225 kB 5.4 MB/s eta 0:00:01\r\u001b[K     |██████████████████████████      | 235 kB 5.4 MB/s eta 0:00:01\r\u001b[K     |███████████████████████████▎    | 245 kB 5.4 MB/s eta 0:00:01\r\u001b[K     |████████████████████████████▍   | 256 kB 5.4 MB/s eta 0:00:01\r\u001b[K     |█████████████████████████████▌  | 266 kB 5.4 MB/s eta 0:00:01\r\u001b[K     |██████████████████████████████▋ | 276 kB 5.4 MB/s eta 0:00:01\r\u001b[K     |███████████████████████████████▉| 286 kB 5.4 MB/s eta 0:00:01\r\u001b[K     |████████████████████████████████| 288 kB 5.4 MB/s \n",
            "\u001b[?25hRequirement already satisfied: regex!=2019.02.19,!=2021.8.27 in /usr/local/lib/python3.7/dist-packages (from dateparser) (2019.12.20)\n",
            "Requirement already satisfied: tzlocal in /usr/local/lib/python3.7/dist-packages (from dateparser) (1.5.1)\n",
            "Requirement already satisfied: pytz in /usr/local/lib/python3.7/dist-packages (from dateparser) (2018.9)\n",
            "Requirement already satisfied: python-dateutil in /usr/local/lib/python3.7/dist-packages (from dateparser) (2.8.2)\n",
            "Requirement already satisfied: six>=1.5 in /usr/local/lib/python3.7/dist-packages (from python-dateutil->dateparser) (1.15.0)\n",
            "Installing collected packages: dateparser\n",
            "Successfully installed dateparser-1.1.0\n"
          ]
        }
      ]
    },
    {
      "cell_type": "code",
      "source": [
        "import dateparser\n",
        "def dateToYear(date):\n",
        "  test_str = date\n",
        "  res = dateparser.parse(test_str)\n",
        "  return res.year"
      ],
      "metadata": {
        "id": "vL3ohwpC1scM"
      },
      "execution_count": 4,
      "outputs": []
    },
    {
      "cell_type": "code",
      "source": [
        "Year = []\n",
        "for date in df['Date']:\n",
        "  Year.append(dateToYear(date))"
      ],
      "metadata": {
        "id": "QOLt_XykvIuI"
      },
      "execution_count": 5,
      "outputs": []
    },
    {
      "cell_type": "code",
      "source": [
        "df['Year']=Year\n",
        "df.head()"
      ],
      "metadata": {
        "id": "ivv9Ptmy3gIj",
        "colab": {
          "base_uri": "https://localhost:8080/",
          "height": 441
        },
        "outputId": "6319ac6b-afdd-44b3-b2a2-1770f0ed04c0"
      },
      "execution_count": 6,
      "outputs": [
        {
          "output_type": "execute_result",
          "data": {
            "text/html": [
              "\n",
              "  <div id=\"df-1008261f-8dd4-4169-a112-9dfe0b50451a\">\n",
              "    <div class=\"colab-df-container\">\n",
              "      <div>\n",
              "<style scoped>\n",
              "    .dataframe tbody tr th:only-of-type {\n",
              "        vertical-align: middle;\n",
              "    }\n",
              "\n",
              "    .dataframe tbody tr th {\n",
              "        vertical-align: top;\n",
              "    }\n",
              "\n",
              "    .dataframe thead th {\n",
              "        text-align: right;\n",
              "    }\n",
              "</style>\n",
              "<table border=\"1\" class=\"dataframe\">\n",
              "  <thead>\n",
              "    <tr style=\"text-align: right;\">\n",
              "      <th></th>\n",
              "      <th>Title</th>\n",
              "      <th>Abstract</th>\n",
              "      <th>Date</th>\n",
              "      <th>Authors</th>\n",
              "      <th>keywords</th>\n",
              "      <th>Preprocessed</th>\n",
              "      <th>Year</th>\n",
              "    </tr>\n",
              "  </thead>\n",
              "  <tbody>\n",
              "    <tr>\n",
              "      <th>0</th>\n",
              "      <td>feature selection for semi-supervised multi-ta...</td>\n",
              "      <td>multitarget regression mtr is an exciting area...</td>\n",
              "      <td>17-Apr-21</td>\n",
              "      <td>Farrukh Hasan Syed, Muhammad Atif Tahir, Muham...</td>\n",
              "      <td>Multi-target learning, Feature selection, Regr...</td>\n",
              "      <td>['multitarget', 'regression', 'mtr', 'excite',...</td>\n",
              "      <td>2021</td>\n",
              "    </tr>\n",
              "    <tr>\n",
              "      <th>1</th>\n",
              "      <td>a shade-based multimodal multi-objective evolu...</td>\n",
              "      <td>in the multimodal multiobjective optimization ...</td>\n",
              "      <td>13-Apr-21</td>\n",
              "      <td>Guoqing Li, Wanliang Wang, Haoli Chen, Wenbo Y...</td>\n",
              "      <td>Multimodal multi-objective optimization proble...</td>\n",
              "      <td>['multimodal', 'multiobjective', 'optimization...</td>\n",
              "      <td>2021</td>\n",
              "    </tr>\n",
              "    <tr>\n",
              "      <th>2</th>\n",
              "      <td>transfer learning of bayesian network for meas...</td>\n",
              "      <td>the quality of service qos of virtual machines...</td>\n",
              "      <td>11-Apr-21</td>\n",
              "      <td>Jia Hao, Kun Yue, Binbin Zhang, Liang Duan, Xi...</td>\n",
              "      <td>Virtual machine, Quality of service, QoS measu...</td>\n",
              "      <td>['quality', 'service', 'qos', 'virtual', 'mach...</td>\n",
              "      <td>2021</td>\n",
              "    </tr>\n",
              "    <tr>\n",
              "      <th>3</th>\n",
              "      <td>multi-level spatial and semantic enhancement n...</td>\n",
              "      <td>facial expression recognition fer on real worl...</td>\n",
              "      <td>07-Apr-21</td>\n",
              "      <td>Yingdong Ma, Xia Wang, Lihua Wei,</td>\n",
              "      <td>Difficult expressions, Intra-class variation, ...</td>\n",
              "      <td>['facial', 'expression', 'recognition', 'fer',...</td>\n",
              "      <td>2021</td>\n",
              "    </tr>\n",
              "    <tr>\n",
              "      <th>4</th>\n",
              "      <td>novel best path selection approach based on hy...</td>\n",
              "      <td>path planning of intelligent driving vehicles ...</td>\n",
              "      <td>20-Apr-21</td>\n",
              "      <td>Xiaohuan Liu, Degan Zhang, Ting Zhang, Yuya Cu...</td>\n",
              "      <td>A* algorithm, Reinforcement learning, Intellig...</td>\n",
              "      <td>['path', 'planning', 'intelligent', 'drive', '...</td>\n",
              "      <td>2021</td>\n",
              "    </tr>\n",
              "  </tbody>\n",
              "</table>\n",
              "</div>\n",
              "      <button class=\"colab-df-convert\" onclick=\"convertToInteractive('df-1008261f-8dd4-4169-a112-9dfe0b50451a')\"\n",
              "              title=\"Convert this dataframe to an interactive table.\"\n",
              "              style=\"display:none;\">\n",
              "        \n",
              "  <svg xmlns=\"http://www.w3.org/2000/svg\" height=\"24px\"viewBox=\"0 0 24 24\"\n",
              "       width=\"24px\">\n",
              "    <path d=\"M0 0h24v24H0V0z\" fill=\"none\"/>\n",
              "    <path d=\"M18.56 5.44l.94 2.06.94-2.06 2.06-.94-2.06-.94-.94-2.06-.94 2.06-2.06.94zm-11 1L8.5 8.5l.94-2.06 2.06-.94-2.06-.94L8.5 2.5l-.94 2.06-2.06.94zm10 10l.94 2.06.94-2.06 2.06-.94-2.06-.94-.94-2.06-.94 2.06-2.06.94z\"/><path d=\"M17.41 7.96l-1.37-1.37c-.4-.4-.92-.59-1.43-.59-.52 0-1.04.2-1.43.59L10.3 9.45l-7.72 7.72c-.78.78-.78 2.05 0 2.83L4 21.41c.39.39.9.59 1.41.59.51 0 1.02-.2 1.41-.59l7.78-7.78 2.81-2.81c.8-.78.8-2.07 0-2.86zM5.41 20L4 18.59l7.72-7.72 1.47 1.35L5.41 20z\"/>\n",
              "  </svg>\n",
              "      </button>\n",
              "      \n",
              "  <style>\n",
              "    .colab-df-container {\n",
              "      display:flex;\n",
              "      flex-wrap:wrap;\n",
              "      gap: 12px;\n",
              "    }\n",
              "\n",
              "    .colab-df-convert {\n",
              "      background-color: #E8F0FE;\n",
              "      border: none;\n",
              "      border-radius: 50%;\n",
              "      cursor: pointer;\n",
              "      display: none;\n",
              "      fill: #1967D2;\n",
              "      height: 32px;\n",
              "      padding: 0 0 0 0;\n",
              "      width: 32px;\n",
              "    }\n",
              "\n",
              "    .colab-df-convert:hover {\n",
              "      background-color: #E2EBFA;\n",
              "      box-shadow: 0px 1px 2px rgba(60, 64, 67, 0.3), 0px 1px 3px 1px rgba(60, 64, 67, 0.15);\n",
              "      fill: #174EA6;\n",
              "    }\n",
              "\n",
              "    [theme=dark] .colab-df-convert {\n",
              "      background-color: #3B4455;\n",
              "      fill: #D2E3FC;\n",
              "    }\n",
              "\n",
              "    [theme=dark] .colab-df-convert:hover {\n",
              "      background-color: #434B5C;\n",
              "      box-shadow: 0px 1px 3px 1px rgba(0, 0, 0, 0.15);\n",
              "      filter: drop-shadow(0px 1px 2px rgba(0, 0, 0, 0.3));\n",
              "      fill: #FFFFFF;\n",
              "    }\n",
              "  </style>\n",
              "\n",
              "      <script>\n",
              "        const buttonEl =\n",
              "          document.querySelector('#df-1008261f-8dd4-4169-a112-9dfe0b50451a button.colab-df-convert');\n",
              "        buttonEl.style.display =\n",
              "          google.colab.kernel.accessAllowed ? 'block' : 'none';\n",
              "\n",
              "        async function convertToInteractive(key) {\n",
              "          const element = document.querySelector('#df-1008261f-8dd4-4169-a112-9dfe0b50451a');\n",
              "          const dataTable =\n",
              "            await google.colab.kernel.invokeFunction('convertToInteractive',\n",
              "                                                     [key], {});\n",
              "          if (!dataTable) return;\n",
              "\n",
              "          const docLinkHtml = 'Like what you see? Visit the ' +\n",
              "            '<a target=\"_blank\" href=https://colab.research.google.com/notebooks/data_table.ipynb>data table notebook</a>'\n",
              "            + ' to learn more about interactive tables.';\n",
              "          element.innerHTML = '';\n",
              "          dataTable['output_type'] = 'display_data';\n",
              "          await google.colab.output.renderOutput(dataTable, element);\n",
              "          const docLink = document.createElement('div');\n",
              "          docLink.innerHTML = docLinkHtml;\n",
              "          element.appendChild(docLink);\n",
              "        }\n",
              "      </script>\n",
              "    </div>\n",
              "  </div>\n",
              "  "
            ],
            "text/plain": [
              "                                               Title  ...  Year\n",
              "0  feature selection for semi-supervised multi-ta...  ...  2021\n",
              "1  a shade-based multimodal multi-objective evolu...  ...  2021\n",
              "2  transfer learning of bayesian network for meas...  ...  2021\n",
              "3  multi-level spatial and semantic enhancement n...  ...  2021\n",
              "4  novel best path selection approach based on hy...  ...  2021\n",
              "\n",
              "[5 rows x 7 columns]"
            ]
          },
          "metadata": {},
          "execution_count": 6
        }
      ]
    },
    {
      "cell_type": "code",
      "source": [
        "df.to_csv('cleaned_data.csv')"
      ],
      "metadata": {
        "id": "ntfwNvDo4UNV"
      },
      "execution_count": 7,
      "outputs": []
    },
    {
      "cell_type": "code",
      "source": [
        "df['Year'].value_counts()"
      ],
      "metadata": {
        "colab": {
          "base_uri": "https://localhost:8080/"
        },
        "id": "nBdv4Q044qRG",
        "outputId": "63729eef-0b54-4124-886e-96e1e60dbd6b"
      },
      "execution_count": 8,
      "outputs": [
        {
          "output_type": "execute_result",
          "data": {
            "text/plain": [
              "2021    1045\n",
              "2020     442\n",
              "2018     249\n",
              "2017     238\n",
              "2019     203\n",
              "2016     136\n",
              "2014     128\n",
              "2015     112\n",
              "2007      83\n",
              "2013      82\n",
              "2012      74\n",
              "2010      64\n",
              "2011      57\n",
              "2009      45\n",
              "2008      45\n",
              "1999      36\n",
              "2000      35\n",
              "1998      33\n",
              "1996      25\n",
              "1992      23\n",
              "1997      21\n",
              "2006      21\n",
              "1993      20\n",
              "1994      20\n",
              "1995      16\n",
              "1991      16\n",
              "Name: Year, dtype: int64"
            ]
          },
          "metadata": {},
          "execution_count": 8
        }
      ]
    },
    {
      "cell_type": "code",
      "source": [
        "df['Year'].value_counts().plot()"
      ],
      "metadata": {
        "colab": {
          "base_uri": "https://localhost:8080/",
          "height": 283
        },
        "id": "sFrbA5r15Uzw",
        "outputId": "9eb13b92-2f0c-4fcf-afc3-80d92630733b"
      },
      "execution_count": 9,
      "outputs": [
        {
          "output_type": "execute_result",
          "data": {
            "text/plain": [
              "<matplotlib.axes._subplots.AxesSubplot at 0x7f2f25319950>"
            ]
          },
          "metadata": {},
          "execution_count": 9
        },
        {
          "output_type": "display_data",
          "data": {
            "image/png": "[encoded data removed]",
            "text/plain": [
              "<Figure size 432x288 with 1 Axes>"
            ]
          },
          "metadata": {
            "needs_background": "light"
          }
        }
      ]
    },
    {
      "cell_type": "code",
      "source": [
        "plt = df['Year'].value_counts().plot(kind ='bar',title = 'Frqeuency Plot')"
      ],
      "metadata": {
        "colab": {
          "base_uri": "https://localhost:8080/",
          "height": 297
        },
        "id": "kVWJ6bYj6zKR",
        "outputId": "355ee926-60da-42f7-fd49-3de5422b54f9"
      },
      "execution_count": 10,
      "outputs": [
        {
          "output_type": "display_data",
          "data": {
            "image/png": "[encoded data removed]",
            "text/plain": [
              "<Figure size 432x288 with 1 Axes>"
            ]
          },
          "metadata": {
            "needs_background": "light"
          }
        }
      ]
    }
  ]
}