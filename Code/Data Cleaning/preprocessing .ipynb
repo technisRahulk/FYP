{
  "nbformat": 4,
  "nbformat_minor": 5,
  "metadata": {
    "kernelspec": {
      "display_name": "Python 3 (ipykernel)",
      "language": "python",
      "name": "python3"
    },
    "language_info": {
      "codemirror_mode": {
        "name": "ipython",
        "version": 3
      },
      "file_extension": ".py",
      "mimetype": "text/x-python",
      "name": "python",
      "nbconvert_exporter": "python",
      "pygments_lexer": "ipython3",
      "version": "3.9.1"
    },
    "colab": {
      "name": "preprocessing.ipynb",
      "provenance": [],
      "collapsed_sections": []
    }
  },
  "cells": [
    {
      "cell_type": "markdown",
      "metadata": {
        "id": "mJd3-lNl9AJ3"
      },
      "source": [
        "Importing Modules"
      ],
      "id": "mJd3-lNl9AJ3"
    },
    {
      "cell_type": "code",
      "metadata": {
        "id": "2b2f9d08"
      },
      "source": [
        "import pandas as pd\n",
        "df=pd.read_csv('projectdatasetfinal.csv')"
      ],
      "id": "2b2f9d08",
      "execution_count": 24,
      "outputs": []
    },
    {
      "cell_type": "markdown",
      "metadata": {
        "id": "4Yhr_gLM9FJu"
      },
      "source": [
        "Converting to lowercase"
      ],
      "id": "4Yhr_gLM9FJu"
    },
    {
      "cell_type": "code",
      "metadata": {
        "colab": {
          "base_uri": "https://localhost:8080/"
        },
        "id": "018decf7",
        "outputId": "1fd0939a-3cd5-456b-8b67-d425ac5822df"
      },
      "source": [
        "import nltk\n",
        "\n",
        "\"\"\"Converting to Lower Case\"\"\"\n",
        "\n",
        "import string\n",
        "df['Abstract'] = [doc.lower() for doc in df['Abstract']]\n",
        "print(df['Abstract'])\n",
        "\n",
        "df['Title']= [doc.lower() for doc in df['Title']]\n",
        "print(df['Title'])\n",
        "\n",
        "df['Abstract']\n"
      ],
      "id": "018decf7",
      "execution_count": 25,
      "outputs": [
        {
          "output_type": "stream",
          "name": "stdout",
          "text": [
            "0       target-specific sentiment classification has a...\n",
            "1       mining knowledge from imbalanced data is chall...\n",
            "2       click-through rate (ctr) prediction plays an i...\n",
            "3       hierarchical clustering is a common unsupervis...\n",
            "4       in the context of human-robot and robot-robot ...\n",
            "                              ...                        \n",
            "3262    industrial and space applications present envi...\n",
            "3263    we look at the representation within the frame...\n",
            "3264    in this paper we discuss reasoning about reaso...\n",
            "3265    knowledge base refinement is a learning proces...\n",
            "3266    this paper describes the nature of mathematica...\n",
            "Name: Abstract, Length: 3267, dtype: object\n",
            "0       deep finesse network model with multichannel s...\n",
            "1       feature selection via minimizing global redund...\n",
            "2       hierarchical attention and feature projection ...\n",
            "3       a novel hierarchical clustering algorithm with...\n",
            "4       a conditional classification recurrent rbm for...\n",
            "                              ...                        \n",
            "3262    employing sensor repositioning to refine spati...\n",
            "3263    the representation of fuzzy relational product...\n",
            "3264    reasoning about reasoning in a meta-level arch...\n",
            "3265            knowledge base refinement: a bibliography\n",
            "3266    knowledge representation for mathematical disc...\n",
            "Name: Title, Length: 3267, dtype: object\n"
          ]
        },
        {
          "output_type": "execute_result",
          "data": {
            "text/plain": [
              "0       target-specific sentiment classification has a...\n",
              "1       mining knowledge from imbalanced data is chall...\n",
              "2       click-through rate (ctr) prediction plays an i...\n",
              "3       hierarchical clustering is a common unsupervis...\n",
              "4       in the context of human-robot and robot-robot ...\n",
              "                              ...                        \n",
              "3262    industrial and space applications present envi...\n",
              "3263    we look at the representation within the frame...\n",
              "3264    in this paper we discuss reasoning about reaso...\n",
              "3265    knowledge base refinement is a learning proces...\n",
              "3266    this paper describes the nature of mathematica...\n",
              "Name: Abstract, Length: 3267, dtype: object"
            ]
          },
          "metadata": {},
          "execution_count": 25
        }
      ]
    },
    {
      "cell_type": "markdown",
      "metadata": {
        "id": "D72j0KHi9OHF"
      },
      "source": [
        "Punctuation Removal"
      ],
      "id": "D72j0KHi9OHF"
    },
    {
      "cell_type": "code",
      "metadata": {
        "colab": {
          "base_uri": "https://localhost:8080/"
        },
        "id": "51bmauFT9MIK",
        "outputId": "ceb23e00-aad4-4650-f731-04bcfeafad9f"
      },
      "source": [
        "def remove_punctuations(text):\n",
        "    for punctuation in string.punctuation:\n",
        "        text = text.replace(punctuation, '')\n",
        "    return text\n",
        "\n",
        "df['Abstract']=df['Abstract'].apply(remove_punctuations)\n",
        "df['Abstract']"
      ],
      "id": "51bmauFT9MIK",
      "execution_count": 26,
      "outputs": [
        {
          "output_type": "execute_result",
          "data": {
            "text/plain": [
              "0       targetspecific sentiment classification has a ...\n",
              "1       mining knowledge from imbalanced data is chall...\n",
              "2       clickthrough rate ctr prediction plays an impo...\n",
              "3       hierarchical clustering is a common unsupervis...\n",
              "4       in the context of humanrobot and robotrobot in...\n",
              "                              ...                        \n",
              "3262    industrial and space applications present envi...\n",
              "3263    we look at the representation within the frame...\n",
              "3264    in this paper we discuss reasoning about reaso...\n",
              "3265    knowledge base refinement is a learning proces...\n",
              "3266    this paper describes the nature of mathematica...\n",
              "Name: Abstract, Length: 3267, dtype: object"
            ]
          },
          "metadata": {},
          "execution_count": 26
        }
      ]
    },
    {
      "cell_type": "code",
      "metadata": {
        "id": "uQZP4OWX6_PH"
      },
      "source": [
        "!pip install wordnet"
      ],
      "id": "uQZP4OWX6_PH",
      "execution_count": null,
      "outputs": []
    },
    {
      "cell_type": "markdown",
      "metadata": {
        "id": "0J2loJyL9YTH"
      },
      "source": [
        "Lemmatization"
      ],
      "id": "0J2loJyL9YTH"
    },
    {
      "cell_type": "code",
      "metadata": {
        "colab": {
          "base_uri": "https://localhost:8080/"
        },
        "id": "9d93ed02",
        "outputId": "c09f79f0-425e-481a-c157-a6c5ae67451c"
      },
      "source": [
        "import wordnet\n",
        "nltk.download('wordnet')\n",
        "from nltk.stem import WordNetLemmatizer\n",
        "from nltk.corpus import wordnet\n",
        "import pandas as pd\n",
        "\n",
        "# Init the Wordnet Lemmatizer\n",
        "lemmatizer = WordNetLemmatizer()\n",
        "sentence = 'FINAL_KEYWORDS'\n",
        "def get_wordnet_pos(word):\n",
        "    \"\"\"Map POS tag to first character lemmatize() accepts\"\"\"\n",
        "    tag = nltk.pos_tag([word])[0][1][0].upper()\n",
        "    tag_dict = {\"J\": wordnet.ADJ,\n",
        "                \"N\": wordnet.NOUN,\n",
        "                \"V\": wordnet.VERB,\n",
        "                \"R\": wordnet.ADV}\n",
        "\n",
        "    return tag_dict.get(tag, wordnet.NOUN)"
      ],
      "id": "9d93ed02",
      "execution_count": 27,
      "outputs": [
        {
          "output_type": "stream",
          "name": "stdout",
          "text": [
            "[nltk_data] Downloading package wordnet to /root/nltk_data...\n",
            "[nltk_data]   Package wordnet is already up-to-date!\n"
          ]
        }
      ]
    },
    {
      "cell_type": "markdown",
      "metadata": {
        "id": "q3uLiKf3-pSW"
      },
      "source": [
        "Tokenization"
      ],
      "id": "q3uLiKf3-pSW"
    },
    {
      "cell_type": "code",
      "metadata": {
        "colab": {
          "base_uri": "https://localhost:8080/"
        },
        "id": "0bc1de8b",
        "outputId": "1c51efdf-0c43-4de2-adf3-edd7fa217af6"
      },
      "source": [
        "import nltk\n",
        "nltk.download('punkt')\n",
        "nltk.download('averaged_perceptron_tagger')\n",
        "df['Preprocessed'] = df['Abstract'].apply(lambda sentence: [lemmatizer.lemmatize(w, get_wordnet_pos(w)) for w in nltk.word_tokenize(sentence)])"
      ],
      "id": "0bc1de8b",
      "execution_count": 28,
      "outputs": [
        {
          "output_type": "stream",
          "name": "stdout",
          "text": [
            "[nltk_data] Downloading package punkt to /root/nltk_data...\n",
            "[nltk_data]   Package punkt is already up-to-date!\n",
            "[nltk_data] Downloading package averaged_perceptron_tagger to\n",
            "[nltk_data]     /root/nltk_data...\n",
            "[nltk_data]   Package averaged_perceptron_tagger is already up-to-\n",
            "[nltk_data]       date!\n"
          ]
        }
      ]
    },
    {
      "cell_type": "markdown",
      "metadata": {
        "id": "1b671Cds9iF-"
      },
      "source": [
        "Stop Word Removal"
      ],
      "id": "1b671Cds9iF-"
    },
    {
      "cell_type": "code",
      "metadata": {
        "colab": {
          "base_uri": "https://localhost:8080/"
        },
        "id": "fd9af557",
        "outputId": "66a215b3-c0fa-4ca0-8a4e-25afc6c7fe16"
      },
      "source": [
        "from nltk.corpus import stopwords\n",
        "nltk.download('stopwords')\n",
        "from nltk.corpus import stopwords\n",
        "stop = stopwords.words('english')\n",
        "stop+=[\"already\",\"also\",\"make\",\"made\",\"hence\",\"without\",\"among\",\"different\",\"using\",\"many\",\"enables\"]\n",
        "df['Preprocessed']=df['Preprocessed'].apply(lambda x: [item for item in x if item not in stop])"
      ],
      "id": "fd9af557",
      "execution_count": 29,
      "outputs": [
        {
          "output_type": "stream",
          "name": "stdout",
          "text": [
            "[nltk_data] Downloading package stopwords to /root/nltk_data...\n",
            "[nltk_data]   Package stopwords is already up-to-date!\n"
          ]
        }
      ]
    },
    {
      "cell_type": "markdown",
      "metadata": {
        "id": "S5Go24xX9neh"
      },
      "source": [
        "Exporting normalized dataset"
      ],
      "id": "S5Go24xX9neh"
    },
    {
      "cell_type": "code",
      "metadata": {
        "id": "8lAS02jP8CDk"
      },
      "source": [
        "df.to_csv('cleaned_data.csv')"
      ],
      "id": "8lAS02jP8CDk",
      "execution_count": 30,
      "outputs": []
    },
    {
      "cell_type": "code",
      "metadata": {
        "colab": {
          "base_uri": "https://localhost:8080/"
        },
        "id": "GkBV1gzF-V5Z",
        "outputId": "af320ee7-d3db-4ef2-8f8c-b1bbba3430e6"
      },
      "source": [
        "df['Preprocessed']"
      ],
      "id": "GkBV1gzF-V5Z",
      "execution_count": 31,
      "outputs": [
        {
          "output_type": "execute_result",
          "data": {
            "text/plain": [
              "0       [targetspecific, sentiment, classification, de...\n",
              "1       [mining, knowledge, imbalanced, data, challeng...\n",
              "2       [clickthrough, rate, ctr, prediction, play, im...\n",
              "3       [hierarchical, cluster, common, unsupervised, ...\n",
              "4       [context, humanrobot, robotrobot, interaction,...\n",
              "                              ...                        \n",
              "3262    [industrial, space, application, present, envi...\n",
              "3263    [look, representation, within, framework, appr...\n",
              "3264    [paper, discus, reason, reason, multiple, agen...\n",
              "3265    [knowledge, base, refinement, learn, process, ...\n",
              "3266    [paper, describes, nature, mathematical, disco...\n",
              "Name: Preprocessed, Length: 3267, dtype: object"
            ]
          },
          "metadata": {},
          "execution_count": 31
        }
      ]
    }
  ]
}